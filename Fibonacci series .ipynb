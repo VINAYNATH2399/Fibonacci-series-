{
 "cells": [
  {
   "cell_type": "code",
   "execution_count": null,
   "id": "10fc59cd",
   "metadata": {},
   "outputs": [],
   "source": [
    "#Fibonacci sequence:-"
   ]
  },
  {
   "cell_type": "code",
   "execution_count": null,
   "id": "f2bcbd4c",
   "metadata": {},
   "outputs": [],
   "source": [
    "fib(10)\n",
    "def fib(n):\n",
    "    a = 0\n",
    "    b = 1\n",
    "    if n == 1:\n",
    "        print(a)\n",
    "    else:\n",
    "        print(a)\n",
    "        print(b)\n",
    "        for i in range (2,n):\n",
    "            c = a + b\n",
    "            a = b\n",
    "            b = c\n",
    "            print(c)\n"
   ]
  },
  {
   "cell_type": "code",
   "execution_count": 7,
   "id": "366e777f",
   "metadata": {},
   "outputs": [
    {
     "name": "stdout",
     "output_type": "stream",
     "text": [
      "Fibonacci sequence:\n",
      "0 1 1 2 3 5 8 13 21 34 "
     ]
    }
   ],
   "source": [
    "#2\n",
    "n1, n2, nterms, count = 0,1,10,0\n",
    "\n",
    "if nterms <=0:\n",
    "    print(\"Positive Integer\")\n",
    "elif nterms == 1:\n",
    "    print(\"Fibonacci sequence of \",nterms)\n",
    "    print(n1)\n",
    "else:\n",
    "    print(\"Fibonacci sequence:\")\n",
    "    while count<nterms:\n",
    "        print(n1,end=' ')\n",
    "        nth = n1 + n2\n",
    "        n1 = n2\n",
    "        n2 = nth\n",
    "        count +=1"
   ]
  },
  {
   "cell_type": "code",
   "execution_count": 3,
   "id": "5e0479c5",
   "metadata": {},
   "outputs": [
    {
     "name": "stdout",
     "output_type": "stream",
     "text": [
      "Fibonacci sequence:\n",
      "0 1 1 2 3 5 8 13 21 34 "
     ]
    }
   ],
   "source": [
    "#3\n",
    "fibo = lambda n:n if n <=1 else fibo(n-1) + fibo(n-2)\n",
    "print(\"Fibonacci sequence:\")\n",
    "for i in range(10):\n",
    "    fs = fibo(i)\n",
    "    print(fs,end=\" \")\n",
    "    "
   ]
  },
  {
   "cell_type": "code",
   "execution_count": null,
   "id": "739cf6e9",
   "metadata": {},
   "outputs": [],
   "source": []
  }
 ],
 "metadata": {
  "kernelspec": {
   "display_name": "Python 3 (ipykernel)",
   "language": "python",
   "name": "python3"
  },
  "language_info": {
   "codemirror_mode": {
    "name": "ipython",
    "version": 3
   },
   "file_extension": ".py",
   "mimetype": "text/x-python",
   "name": "python",
   "nbconvert_exporter": "python",
   "pygments_lexer": "ipython3",
   "version": "3.10.3"
  }
 },
 "nbformat": 4,
 "nbformat_minor": 5
}
